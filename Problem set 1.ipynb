{
 "cells": [
  {
   "cell_type": "code",
   "execution_count": 76,
   "id": "e93322ff",
   "metadata": {},
   "outputs": [
    {
     "name": "stdout",
     "output_type": "stream",
     "text": [
      "True\n",
      "10\n",
      "55\n",
      "52\n",
      "2.5\n",
      "1\n",
      "False\n",
      "The datatype is <class 'int'>\n",
      "The datatype is <class 'bool'>\n",
      "The datatype is <class 'bool'>\n",
      "The datatype is <class 'str'>\n",
      "The datatype is <class 'int'>\n",
      "The datatype is <class 'str'>\n",
      "The datatype is <class 'str'>\n",
      "The datatype is <class 'float'>\n",
      "The datatype is <class 'int'>\n",
      "The datatype is <class 'set'>\n",
      "The datatype is <class 'bool'>\n",
      "The datatype is <class 'float'>\n"
     ]
    }
   ],
   "source": [
    "#Question 1\n",
    "M = 5\n",
    "A = 5.0\n",
    "Y = 5 > 1\n",
    "U = '5'\n",
    "R = 5 * 2\n",
    "S = '5' * 2\n",
    "E = '5' + '2'\n",
    "T = 5 / 2\n",
    "H = 5 % 2\n",
    "X = {5, 2, 1}\n",
    "A = 5 == 3\n",
    "Pi = 3.14\n",
    "print(Y)\n",
    "print(R)\n",
    "print(S)\n",
    "print(E)\n",
    "print(T)\n",
    "print(H)\n",
    "print(A)\n",
    "print(\"The datatype is\",type(M))\n",
    "print(\"The datatype is\",type(A))\n",
    "print(\"The datatype is\",type(Y))\n",
    "print(\"The datatype is\",type(U))\n",
    "print(\"The datatype is\",type(R))\n",
    "print(\"The datatype is\",type(S))\n",
    "print(\"The datatype is\",type(E))\n",
    "print(\"The datatype is\",type(T))\n",
    "print(\"The datatype is\",type(H))\n",
    "print(\"The datatype is\",type(X))\n",
    "print(\"The datatype is\",type(Y))\n",
    "print(\"The datatype is\",type(Pi))"
   ]
  },
  {
   "cell_type": "code",
   "execution_count": 18,
   "id": "2443c980",
   "metadata": {},
   "outputs": [
    {
     "name": "stdout",
     "output_type": "stream",
     "text": [
      "34\n",
      "True\n",
      "['Supercalifragilisticexpialidocious', 'Honorificabilitudinitatibus']\n"
     ]
    }
   ],
   "source": [
    "#Question 2(a),(b),(c)\n",
    "M = 'Supercalifragilisticexpialidocious'\n",
    "print(len(M))\n",
    "print('ice' in M)\n",
    "word1 = [\"Supercalifragilisticexpialidocious\"]\n",
    "word2 = [\"Honorificabilitudinitatibus\"]\n",
    "word3 = [\"Bababadalgharaghtakamminarronnkonn\"]\n",
    "if len(word1) > len(word2) & len(word1) > len(word3):\n",
    "    print (word1)\n",
    "elif len(word2) > len(word1) & len(word2) > len(word3):\n",
    "    print (word2)\n",
    "elif len(word3) > len(word1) & len(word3) > len(word1):\n",
    "    print (word3)\n",
    "elif len(word1) == len(word2):\n",
    "    print (word1 + word2)\n",
    "elif len(word1) == len(word3):\n",
    "    print (word1 + word3)\n",
    "elif len(word2) == len(word3):\n",
    "    print (word2 + word3)"
   ]
  },
  {
   "cell_type": "code",
   "execution_count": null,
   "id": "eee382d4",
   "metadata": {},
   "outputs": [],
   "source": []
  },
  {
   "cell_type": "code",
   "execution_count": 78,
   "id": "8187a470",
   "metadata": {},
   "outputs": [
    {
     "name": "stdout",
     "output_type": "stream",
     "text": [
      "['Bartok', 'Bellini', 'Berlioz', 'Bernstein', 'Borodin', 'Brian', 'Buxtehude']\n",
      "Bartok comes first in dictionary\n",
      "Buxtehude comes last in dictionary\n"
     ]
    }
   ],
   "source": [
    "#Question 2(d)\n",
    "composersindictionary = ['Berlioz', 'Borodin', 'Brian', 'Bartok', 'Bellini', 'Buxtehude', 'Bernstein']\n",
    "composersindictionary.sort()\n",
    "print(composersindictionary)\n",
    "print((composersindictionary[0]) + \" comes first in dictionary\")\n",
    "print((composersindictionary[-1]) + \" comes last in dictionary\")"
   ]
  },
  {
   "cell_type": "code",
   "execution_count": 88,
   "id": "546453c6",
   "metadata": {},
   "outputs": [
    {
     "name": "stdout",
     "output_type": "stream",
     "text": [
      "1st side of triangle :2\n",
      "2nd side of triangle :2\n",
      "3rd side of triangle :2\n",
      "The area of the triangle is  1.7320508075688772\n"
     ]
    }
   ],
   "source": [
    "#Question 3\n",
    "def triangleArea(a,b,c):\n",
    "    perimeteroftriangle = a + b + c\n",
    "    s = perimeteroftriangle / 2\n",
    "    area = (s*(s-a)*(s-b)*(s-c))**0.5\n",
    "    return area\n",
    "\n",
    "a = int(input(\"1st side of triangle :\"))\n",
    "b =int(input(\"2nd side of triangle :\"))\n",
    "c = int(input(\"3rd side of triangle :\"))\n",
    "area = triangleArea(a,b,c)\n",
    "print(\"The area of the triangle is  \" + str(area))"
   ]
  },
  {
   "cell_type": "code",
   "execution_count": 20,
   "id": "2c6db396",
   "metadata": {},
   "outputs": [
    {
     "name": "stdout",
     "output_type": "stream",
     "text": [
      "element {n}: 25\n",
      "element {n}: 47\n",
      "element {n}: 42\n",
      "element {n}: 56\n",
      "element {n}: 32\n",
      "[42, 56, 32]\n",
      "[25, 47]\n"
     ]
    }
   ],
   "source": [
    "#Question 4\n",
    "s = []\n",
    "for n in range(0,5,1):\n",
    "    s.append(int(input(\"element {n}: \")))\n",
    "Even = []\n",
    "Odd = []\n",
    "for m in range(len(s)):\n",
    "    if s[m] % 2 == 0:\n",
    "        Even.append(s[m])\n",
    "    else:\n",
    "        Odd.append(s[m])\n",
    "print(Even)\n",
    "print(Odd)\n",
    "    "
   ]
  },
  {
   "cell_type": "markdown",
   "id": "a94bb899",
   "metadata": {},
   "source": []
  },
  {
   "cell_type": "code",
   "execution_count": 21,
   "id": "d966ee6b",
   "metadata": {},
   "outputs": [
    {
     "name": "stdout",
     "output_type": "stream",
     "text": [
      "Word i want to change to latin pig = ice\n",
      "iceway\n"
     ]
    }
   ],
   "source": [
    "#Question 6\n",
    "m = input(\"Word i want to change to latin pig = \"  )\n",
    "if m[0] == 'a':\n",
    "    print (m + \"way\")\n",
    "elif m[0] == 'e':\n",
    "    print (m + \"way\")\n",
    "elif m[0] == 'i':\n",
    "    print (m + \"way\")\n",
    "elif m[0] == 'o':\n",
    "    print (m + \"way\")\n",
    "elif m[0] == 'u':\n",
    "    print (m + \"way\")\n",
    "# i want to do other part of this too with elif but i am unable too.\n",
    "        "
   ]
  },
  {
   "cell_type": "code",
   "execution_count": 10,
   "id": "d2b48f9d",
   "metadata": {},
   "outputs": [
    {
     "name": "stdout",
     "output_type": "stream",
     "text": [
      "15 people have A blood type\n",
      "1 people have B blood type\n",
      "13 people have AB blood type\n",
      "15 people have O blood type\n",
      "0 people have OO blood type\n"
     ]
    }
   ],
   "source": [
    "#Question 7\n",
    "infile = open('Bloodtype.txt')\n",
    "content = infile.readlines()\n",
    "bloodtypecountA=0\n",
    "bloodtypecountB=0\n",
    "bloodtypecountAB=0\n",
    "bloodtypecountO=0\n",
    "bloodtypecountOO=0\n",
    "for m in content:\n",
    "    countbloodtypenumbers = m.split(\" \")\n",
    "for n in countbloodtypenumbers:\n",
    "    if n == 'A':\n",
    "        bloodtypecountA = bloodtypecountA+1\n",
    "    elif n == 'B':\n",
    "        bloodtypecountB = bloodtypecountB+1\n",
    "    elif n == 'AB':\n",
    "        bloodtypecountAB = bloodtypecountAB+1\n",
    "    elif n == 'O':\n",
    "        bloodtypecountO = bloodtypecountO+1\n",
    "    elif n == 'OO':\n",
    "        bloodtypecountOO = bloodtypecountOO+1  \n",
    "print(bloodtypecountA, \"people have A blood type\" )\n",
    "print(bloodtypecountB, \"people have B blood type\" )\n",
    "print(bloodtypecountAB, \"people have AB blood type\" )\n",
    "print(bloodtypecountO, \"people have O blood type\" )\n",
    "print(bloodtypecountOO, \"people have OO blood type\" )"
   ]
  },
  {
   "cell_type": "code",
   "execution_count": 6,
   "id": "881e19d3",
   "metadata": {},
   "outputs": [
    {
     "name": "stdout",
     "output_type": "stream",
     "text": [
      "122.96544\n",
      "1.241401\n"
     ]
    }
   ],
   "source": [
    "#Question 8\n",
    "def curconv(Currency_symbol,Amount):\n",
    "    infile = open('Currencies.txt')\n",
    "    lines = infile.readlines()\n",
    "    Conversions_of_currency = []\n",
    "    for m in lines:\n",
    "        Conversions_of_currency.append(m.split(\"\\t\"))\n",
    "    for o in Conversions_of_currency:\n",
    "        if o[0] == Currency_symbol:\n",
    "            return Amount*float(o[1])\n",
    "print(curconv('EUR',100))\n",
    "print(curconv('JPY',100))\n",
    "\n",
    "        "
   ]
  },
  {
   "cell_type": "code",
   "execution_count": 3,
   "id": "dd40f56a",
   "metadata": {},
   "outputs": [
    {
     "ename": "TypeError",
     "evalue": "unsupported operand type(s) for +: 'int' and 'str'",
     "output_type": "error",
     "traceback": [
      "\u001b[1;31m---------------------------------------------------------------------------\u001b[0m",
      "\u001b[1;31mTypeError\u001b[0m                                 Traceback (most recent call last)",
      "\u001b[1;32m<ipython-input-3-b28a5a365cb1>\u001b[0m in \u001b[0;36m<module>\u001b[1;34m\u001b[0m\n\u001b[0;32m      1\u001b[0m \u001b[1;31m#Question 9(a)\u001b[0m\u001b[1;33m\u001b[0m\u001b[1;33m\u001b[0m\u001b[1;33m\u001b[0m\u001b[0m\n\u001b[1;32m----> 2\u001b[1;33m \u001b[0mm\u001b[0m \u001b[1;33m=\u001b[0m \u001b[1;36m6\u001b[0m \u001b[1;33m+\u001b[0m \u001b[1;34m'a'\u001b[0m\u001b[1;33m\u001b[0m\u001b[1;33m\u001b[0m\u001b[0m\n\u001b[0m",
      "\u001b[1;31mTypeError\u001b[0m: unsupported operand type(s) for +: 'int' and 'str'"
     ]
    }
   ],
   "source": [
    "#Question 9(a)\n",
    "m = 6 + 'a'"
   ]
  },
  {
   "cell_type": "code",
   "execution_count": 65,
   "id": "d11258e0",
   "metadata": {},
   "outputs": [
    {
     "ename": "TypeError",
     "evalue": "'list' object is not callable",
     "output_type": "error",
     "traceback": [
      "\u001b[1;31m---------------------------------------------------------------------------\u001b[0m",
      "\u001b[1;31mTypeError\u001b[0m                                 Traceback (most recent call last)",
      "\u001b[1;32m<ipython-input-65-5ae852c00ef3>\u001b[0m in \u001b[0;36m<module>\u001b[1;34m\u001b[0m\n\u001b[0;32m      1\u001b[0m \u001b[0mn\u001b[0m \u001b[1;33m=\u001b[0m \u001b[1;33m[\u001b[0m\u001b[1;36m1\u001b[0m\u001b[1;33m,\u001b[0m\u001b[1;36m2\u001b[0m\u001b[1;33m,\u001b[0m\u001b[1;36m3\u001b[0m\u001b[1;33m,\u001b[0m\u001b[1;36m4\u001b[0m\u001b[1;33m,\u001b[0m\u001b[1;36m5\u001b[0m\u001b[1;33m,\u001b[0m\u001b[1;36m6\u001b[0m\u001b[1;33m,\u001b[0m\u001b[1;36m7\u001b[0m\u001b[1;33m,\u001b[0m\u001b[1;36m8\u001b[0m\u001b[1;33m,\u001b[0m\u001b[1;36m9\u001b[0m\u001b[1;33m,\u001b[0m\u001b[1;36m10\u001b[0m\u001b[1;33m]\u001b[0m\u001b[1;33m\u001b[0m\u001b[1;33m\u001b[0m\u001b[0m\n\u001b[1;32m----> 2\u001b[1;33m \u001b[0mprint\u001b[0m \u001b[1;33m(\u001b[0m\u001b[0mn\u001b[0m\u001b[1;33m(\u001b[0m\u001b[1;36m12\u001b[0m\u001b[1;33m)\u001b[0m\u001b[1;33m)\u001b[0m\u001b[1;33m\u001b[0m\u001b[1;33m\u001b[0m\u001b[0m\n\u001b[0m",
      "\u001b[1;31mTypeError\u001b[0m: 'list' object is not callable"
     ]
    }
   ],
   "source": [
    "#Question 9(b)\n",
    "n = [1,2,3,4,5,6,7,8,9,10]\n",
    "print (n(12))"
   ]
  },
  {
   "cell_type": "code",
   "execution_count": 71,
   "id": "39ef23b2",
   "metadata": {},
   "outputs": [
    {
     "ename": "ValueError",
     "evalue": "math domain error",
     "output_type": "error",
     "traceback": [
      "\u001b[1;31m---------------------------------------------------------------------------\u001b[0m",
      "\u001b[1;31mValueError\u001b[0m                                Traceback (most recent call last)",
      "\u001b[1;32m<ipython-input-71-bd299b84d1e8>\u001b[0m in \u001b[0;36m<module>\u001b[1;34m\u001b[0m\n\u001b[0;32m      1\u001b[0m \u001b[1;32mimport\u001b[0m \u001b[0mmath\u001b[0m\u001b[1;33m\u001b[0m\u001b[1;33m\u001b[0m\u001b[0m\n\u001b[1;32m----> 2\u001b[1;33m \u001b[0mm\u001b[0m \u001b[1;33m=\u001b[0m \u001b[0mmath\u001b[0m\u001b[1;33m.\u001b[0m\u001b[0msqrt\u001b[0m\u001b[1;33m(\u001b[0m\u001b[1;33m-\u001b[0m\u001b[1;36m2.0\u001b[0m\u001b[1;33m)\u001b[0m\u001b[1;33m\u001b[0m\u001b[1;33m\u001b[0m\u001b[0m\n\u001b[0m\u001b[0;32m      3\u001b[0m \u001b[0mprint\u001b[0m\u001b[1;33m(\u001b[0m\u001b[0mm\u001b[0m\u001b[1;33m)\u001b[0m\u001b[1;33m\u001b[0m\u001b[1;33m\u001b[0m\u001b[0m\n",
      "\u001b[1;31mValueError\u001b[0m: math domain error"
     ]
    }
   ],
   "source": [
    "#Question 9(c)\n",
    "import math\n",
    "m = math.sqrt(-2.0)\n",
    "print(m)"
   ]
  },
  {
   "cell_type": "code",
   "execution_count": 67,
   "id": "7ae3e019",
   "metadata": {},
   "outputs": [
    {
     "ename": "NameError",
     "evalue": "name 'x' is not defined",
     "output_type": "error",
     "traceback": [
      "\u001b[1;31m---------------------------------------------------------------------------\u001b[0m",
      "\u001b[1;31mNameError\u001b[0m                                 Traceback (most recent call last)",
      "\u001b[1;32m<ipython-input-67-1f1e0c7aadc2>\u001b[0m in \u001b[0;36m<module>\u001b[1;34m\u001b[0m\n\u001b[1;32m----> 1\u001b[1;33m \u001b[0mx\u001b[0m\u001b[1;33m\u001b[0m\u001b[1;33m\u001b[0m\u001b[0m\n\u001b[0m\u001b[0;32m      2\u001b[0m \u001b[0mprint\u001b[0m\u001b[1;33m(\u001b[0m\u001b[0mx\u001b[0m\u001b[1;33m)\u001b[0m\u001b[1;33m\u001b[0m\u001b[1;33m\u001b[0m\u001b[0m\n",
      "\u001b[1;31mNameError\u001b[0m: name 'x' is not defined"
     ]
    }
   ],
   "source": [
    "#Quesion 9(d)\n",
    "x \n",
    "print(x)"
   ]
  },
  {
   "cell_type": "code",
   "execution_count": 4,
   "id": "e82eea45",
   "metadata": {},
   "outputs": [
    {
     "ename": "FileNotFoundError",
     "evalue": "[Errno 2] No such file or directory: 'mayur.txt'",
     "output_type": "error",
     "traceback": [
      "\u001b[1;31m---------------------------------------------------------------------------\u001b[0m",
      "\u001b[1;31mFileNotFoundError\u001b[0m                         Traceback (most recent call last)",
      "\u001b[1;32m<ipython-input-4-c1fffa122b68>\u001b[0m in \u001b[0;36m<module>\u001b[1;34m\u001b[0m\n\u001b[0;32m      1\u001b[0m \u001b[1;31m#Question 9(e)\u001b[0m\u001b[1;33m\u001b[0m\u001b[1;33m\u001b[0m\u001b[1;33m\u001b[0m\u001b[0m\n\u001b[1;32m----> 2\u001b[1;33m \u001b[0minfile\u001b[0m \u001b[1;33m=\u001b[0m \u001b[0mopen\u001b[0m\u001b[1;33m(\u001b[0m\u001b[1;34m'mayur.txt'\u001b[0m\u001b[1;33m)\u001b[0m\u001b[1;33m\u001b[0m\u001b[1;33m\u001b[0m\u001b[0m\n\u001b[0m\u001b[0;32m      3\u001b[0m \u001b[0mcontent\u001b[0m \u001b[1;33m=\u001b[0m \u001b[0minfile\u001b[0m\u001b[1;33m.\u001b[0m\u001b[0mreadlines\u001b[0m\u001b[1;33m(\u001b[0m\u001b[1;33m)\u001b[0m\u001b[1;33m\u001b[0m\u001b[1;33m\u001b[0m\u001b[0m\n",
      "\u001b[1;31mFileNotFoundError\u001b[0m: [Errno 2] No such file or directory: 'mayur.txt'"
     ]
    }
   ],
   "source": [
    "#Question 9(e)\n",
    "infile = open('mayur.txt')\n",
    "content = infile.readlines()"
   ]
  },
  {
   "cell_type": "code",
   "execution_count": 4,
   "id": "223dab43",
   "metadata": {},
   "outputs": [
    {
     "name": "stdout",
     "output_type": "stream",
     "text": [
      "False\n"
     ]
    }
   ],
   "source": [
    "#Question 5\n",
    "def inside(x,y,x1,y1,x2,y2):\n",
    "    if (y > y1 & y < y2 & x < x2 & x > x1):\n",
    "            return True\n",
    "    else:    \n",
    "            return False\n",
    "(x1,x2) = (0,0)        \n",
    "(x,y) = (1,1)\n",
    "(y1,y2) = (2,3)\n",
    "print(inside(x,y,x1,y1,x2,y2))\n"
   ]
  },
  {
   "cell_type": "code",
   "execution_count": null,
   "id": "e2a6235a",
   "metadata": {},
   "outputs": [],
   "source": [
    "#Question 10\n",
    "def frequencies()\n",
    "M = 'abcdefghijklmnopqrstuvwxyz' \n",
    "# I am trying to understand the rest of the question. "
   ]
  }
 ],
 "metadata": {
  "kernelspec": {
   "display_name": "Python 3",
   "language": "python",
   "name": "python3"
  },
  "language_info": {
   "codemirror_mode": {
    "name": "ipython",
    "version": 3
   },
   "file_extension": ".py",
   "mimetype": "text/x-python",
   "name": "python",
   "nbconvert_exporter": "python",
   "pygments_lexer": "ipython3",
   "version": "3.8.8"
  }
 },
 "nbformat": 4,
 "nbformat_minor": 5
}
